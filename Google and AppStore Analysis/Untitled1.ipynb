{
 "cells": [
  {
   "cell_type": "code",
   "execution_count": 9,
   "metadata": {},
   "outputs": [
    {
     "name": "stdout",
     "output_type": "stream",
     "text": [
      "2\n"
     ]
    }
   ],
   "source": [
    "i = ''\n",
    "\n",
    "if not i:\n",
    "    i=2\n",
    "else:\n",
    "    i=1\n",
    "print(i)   "
   ]
  },
  {
   "cell_type": "code",
   "execution_count": 10,
   "metadata": {},
   "outputs": [
    {
     "name": "stdout",
     "output_type": "stream",
     "text": [
      "[1, 2, 'invalid', 4]\n"
     ]
    }
   ],
   "source": [
    "def convert_to_int(n):\n",
    "    return int(n)\n",
    "\n",
    "num_strings = [\"1\", \"2\", \"\", \"4\"]\n",
    "num_ints = []\n",
    "\n",
    "for n in num_strings:\n",
    "    try:\n",
    "        n_int = convert_to_int(n)\n",
    "    except:\n",
    "        n_int = \"invalid\"\n",
    "    num_ints.append(n_int)\n",
    "\n",
    "print(num_ints)"
   ]
  },
  {
   "cell_type": "code",
   "execution_count": 11,
   "metadata": {},
   "outputs": [
    {
     "name": "stdout",
     "output_type": "stream",
     "text": [
      "['invalid', 'invalid', 'invalid', 'invalid']\n"
     ]
    }
   ],
   "source": [
    "def convert_to_int(n_string):\n",
    "    return int(string)\n",
    "\n",
    "num_strings = [\"1\", \"2\", \"\", \"4\"]\n",
    "num_ints = []\n",
    "\n",
    "for n in num_strings:\n",
    "    try:\n",
    "        n_int = convert_to_int(n)\n",
    "    except:\n",
    "        n_int = \"invalid\"\n",
    "    num_ints.append(n_int)\n",
    "\n",
    "print(num_ints)"
   ]
  },
  {
   "cell_type": "code",
   "execution_count": 14,
   "metadata": {},
   "outputs": [
    {
     "data": {
      "text/plain": [
       "'1!!!!!!!!!!!Section 3.2.1 Issue #32'"
      ]
     },
     "execution_count": 14,
     "metadata": {},
     "output_type": "execute_result"
    }
   ],
   "source": [
    "comment_string = '#....... 1!!!!!!!!!!!Section 3.2.1 Issue #32 .......'\n",
    "comment_string.strip('.#! ')"
   ]
  },
  {
   "cell_type": "code",
   "execution_count": 17,
   "metadata": {},
   "outputs": [],
   "source": [
    "if '2' in '1990':\n",
    "    print(True)\n"
   ]
  },
  {
   "cell_type": "code",
   "execution_count": 28,
   "metadata": {},
   "outputs": [
    {
     "name": "stdout",
     "output_type": "stream",
     "text": [
      "a\n",
      "b\n",
      "c\n",
      "d\n",
      "e\n"
     ]
    }
   ],
   "source": [
    "d = {'a': 0, 'b': 1, 'c': 2, 'd': 3, 'e': 4}\n",
    "for key, value in sorted(d.items()):\n",
    "    print(key)"
   ]
  },
  {
   "cell_type": "code",
   "execution_count": 22,
   "metadata": {},
   "outputs": [
    {
     "name": "stdout",
     "output_type": "stream",
     "text": [
      "Value : dict_items([('Name', 'Zara'), ('Age', 7)])\n"
     ]
    }
   ],
   "source": [
    "dict = {'Name': 'Zara', 'Age': 7}\n",
    "print (\"Value : %s\" %  dict.items())"
   ]
  },
  {
   "cell_type": "code",
   "execution_count": null,
   "metadata": {},
   "outputs": [],
   "source": []
  }
 ],
 "metadata": {
  "kernelspec": {
   "display_name": "Python 3",
   "language": "python",
   "name": "python3"
  },
  "language_info": {
   "codemirror_mode": {
    "name": "ipython",
    "version": 3
   },
   "file_extension": ".py",
   "mimetype": "text/x-python",
   "name": "python",
   "nbconvert_exporter": "python",
   "pygments_lexer": "ipython3",
   "version": "3.7.1"
  }
 },
 "nbformat": 4,
 "nbformat_minor": 2
}
